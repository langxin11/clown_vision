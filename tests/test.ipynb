{
 "cells": [
  {
   "cell_type": "code",
   "execution_count": null,
   "id": "f2042b7b",
   "metadata": {},
   "outputs": [],
   "source": [
    "import os\n",
    "import sys\n",
    "\n",
    "# 添加项目根目录到Python路径\n",
    "sys.path.append(os.path.dirname(os.path.dirname(os.path.abspath(__file__))))"
   ]
  },
  {
   "cell_type": "code",
   "execution_count": 3,
   "metadata": {},
   "outputs": [],
   "source": [
    "import cv2\n",
    "\n",
    "# 读取图片\n",
    "img = cv2.imread(\"assets/test.png\")\n",
    "\n",
    "# 检查图片是否成功加载\n",
    "if img is None:\n",
    "    print(\"错误：无法加载图像，请检查文件路径\")\n",
    "else:\n",
    "    # 显示图片\n",
    "    cv2.imshow(\"Image\", img)\n",
    "    \n",
    "    # 等待按键，然后关闭窗口\n",
    "    cv2.waitKey(0)\n",
    "    cv2.destroyAllWindows()"
   ]
  },
  {
   "cell_type": "code",
   "execution_count": 5,
   "id": "d625f340",
   "metadata": {},
   "outputs": [],
   "source": [
    "from clown_vision import preprocessing\n",
    "gray = preprocessing.to_gray(img)\n",
    "\n",
    "cv2.imshow(\"Image\", gray)\n",
    "    \n",
    "# 等待按键，然后关闭窗口\n",
    "cv2.waitKey(0)\n",
    "cv2.destroyAllWindows()"
   ]
  }
 ],
 "metadata": {
  "kernelspec": {
   "display_name": "clown-vision",
   "language": "python",
   "name": "python3"
  },
  "language_info": {
   "codemirror_mode": {
    "name": "ipython",
    "version": 3
   },
   "file_extension": ".py",
   "mimetype": "text/x-python",
   "name": "python",
   "nbconvert_exporter": "python",
   "pygments_lexer": "ipython3",
   "version": "3.12.7"
  }
 },
 "nbformat": 4,
 "nbformat_minor": 5
}
