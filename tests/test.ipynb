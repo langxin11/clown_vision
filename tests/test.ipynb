{
 "cells": [
  {
   "cell_type": "markdown",
   "id": "5ea744a8",
   "metadata": {},
   "source": [
    "# 添加项目根目录到路径"
   ]
  },
  {
   "cell_type": "code",
   "execution_count": 1,
   "id": "f2042b7b",
   "metadata": {},
   "outputs": [
    {
     "name": "stdout",
     "output_type": "stream",
     "text": [
      "Project root added to path: F:\\学业\\Graduate_first\\飞行器视觉技术\\clown-vision\n",
      "clown_vision directory exists: True\n"
     ]
    }
   ],
   "source": [
    "import sys\n",
    "import pathlib\n",
    "import cv2\n",
    "import numpy as np\n",
    "import os\n",
    "\n",
    "# 添加项目根目录到Python路径\n",
    "# 在Jupyter Notebook中使用 pathlib 替代 __file__\n",
    "notebook_path = pathlib.Path().resolve()\n",
    "project_root = notebook_path.parent\n",
    "sys.path.insert(0, str(project_root))\n",
    "\n",
    "# 验证路径是否正确添加\n",
    "print(f\"Project root added to path: {project_root}\")\n",
    "print(f\"clown_vision directory exists: {(project_root / 'clown_vision').exists()}\")"
   ]
  },
  {
   "cell_type": "markdown",
   "id": "9d31cbfb",
   "metadata": {},
   "source": [
    "加载小丑图片"
   ]
  },
  {
   "cell_type": "code",
   "execution_count": 2,
   "id": "bba35b6e",
   "metadata": {},
   "outputs": [
    {
     "name": "stdout",
     "output_type": "stream",
     "text": [
      "成功加载图像: ../assets/test.png\n"
     ]
    }
   ],
   "source": [
    "# 读取图片\n",
    "img = cv2.imread(\"../assets/test.png\")\n",
    "\n",
    "# 检查图片是否成功加载\n",
    "if img is None:\n",
    "    print(\"错误：无法加载图像，请检查文件路径: ../assets/test.png\")\n",
    "else:\n",
    "    print(\"成功加载图像: ../assets/test.png\")\n",
    "    # 显示图片\n",
    "    cv2.imshow(\"Image\", img)\n",
    "    \n",
    "    # 等待按键，然后关闭窗口\n",
    "    cv2.waitKey(0)\n",
    "    cv2.destroyAllWindows()"
   ]
  },
  {
   "cell_type": "markdown",
   "id": "6d3aa061",
   "metadata": {},
   "source": [
    "# 1. 测试preprocessing.py"
   ]
  },
  {
   "cell_type": "code",
   "execution_count": null,
   "id": "b18362c6",
   "metadata": {},
   "outputs": [],
   "source": [
    "from clown_vision import preprocessing\n",
    "# ================测试灰度化函数====================\n",
    "gray = preprocessing.to_gray(img)\n",
    "# 检查灰度化结果是否正确\n",
    "assert gray.shape == img.shape[:2], \"灰度化后图像形状与原图像不同\"\n",
    "# 显示灰度化结果\n",
    "cv2.imshow(\"Gray Image\", gray)\n",
    "cv2.waitKey(0)\n",
    "cv2.destroyAllWindows()\n",
    "# =============测试二值化函数====================\n",
    "binary = preprocessing.to_binary(gray, use_otsu=True)\n",
    "cv2.imshow(\"Binary Image\", binary)\n",
    "cv2.waitKey(0)\n",
    "cv2.destroyAllWindows()\n",
    "\n",
    "ret,binary_otsu = cv2.threshold(\n",
    "    gray,\n",
    "    0,          # 阈值设为0，由Otsu自动计算\n",
    "    255,\n",
    "    cv2.THRESH_BINARY + cv2.THRESH_OTSU\n",
    ")\n",
    "cv2.imshow(\"Binary\", binary_otsu)\n",
    "cv2.waitKey(0)\n",
    "cv2.destroyAllWindows()\n",
    "\n",
    "# ===========测试fuourier_transform函数================\n",
    "fourier = preprocessing.fourier_transform(gray)\n",
    "cv2.imshow(\"Fourier Transform\", fourier)\n",
    "cv2.waitKey(0)\n",
    "cv2.destroyAllWindows()"
   ]
  },
  {
   "cell_type": "markdown",
   "id": "8f4b0e8d",
   "metadata": {},
   "source": [
    "# 2. 傅里叶变换（手动实现版本）"
   ]
  },
  {
   "cell_type": "code",
   "execution_count": 4,
   "id": "14471309",
   "metadata": {},
   "outputs": [],
   "source": [
    "# 1. 灰度化\n",
    "gray = cv2.cvtColor(img, cv2.COLOR_BGR2GRAY)\n",
    "\n",
    "# 2. 傅里叶变换\n",
    "dft = cv2.dft(np.float32(gray), flags=cv2.DFT_COMPLEX_OUTPUT)\n",
    "\n",
    "# 3. 将低频移动到中心（中心化）\n",
    "dft_shift = np.fft.fftshift(dft)\n",
    "\n",
    "# 4. 计算幅度谱（log缩放便于显示）\n",
    "magnitude_spectrum = 20 * np.log(cv2.magnitude(dft_shift[:, :, 0], dft_shift[:, :, 1]) + 1)\n",
    "\n",
    "#5. 转换为可显示的格式\n",
    "magnitude_spectrum = np.uint8(magnitude_spectrum) \n",
    "\n",
    "cv2.imshow('Magnitude Spectrum', magnitude_spectrum.astype(np.uint8))\n",
    "cv2.waitKey(0)\n",
    "cv2.destroyAllWindows()"
   ]
  },
  {
   "cell_type": "code",
   "execution_count": 5,
   "id": "980a8dd8",
   "metadata": {},
   "outputs": [],
   "source": [
    "f = np.fft.fft2(gray)\n",
    "fshift = np.fft.fftshift(f)\n",
    "spectrum = 20 * np.log(np.abs(fshift) + 1)\n",
    "spectrum = np.uint8(spectrum)\n",
    "cv2.imshow('spectrum', spectrum.astype(np.uint8))\n",
    "cv2.waitKey(0)\n",
    "cv2.destroyAllWindows()"
   ]
  },
  {
   "cell_type": "markdown",
   "id": "fa9834fd",
   "metadata": {},
   "source": [
    "测试untangle函数（解开牵引绳,进行分割，并标记不同颜色）\n",
    "还没成功"
   ]
  },
  {
   "cell_type": "code",
   "execution_count": 3,
   "id": "d625f340",
   "metadata": {},
   "outputs": [],
   "source": [
    "from clown_vision import untangle\n",
    "\n",
    "# 调用 colorize_lines 函数处理图像\n",
    "result = untangle.colorize_lines(img)\n",
    "\n",
    "# 显示处理后的图像\n",
    "cv2.imshow(\"Colorized Lines\", result)\n",
    "cv2.waitKey(0)\n",
    "cv2.destroyAllWindows()"
   ]
  }
 ],
 "metadata": {
  "kernelspec": {
   "display_name": "clown-vision",
   "language": "python",
   "name": "python3"
  },
  "language_info": {
   "codemirror_mode": {
    "name": "ipython",
    "version": 3
   },
   "file_extension": ".py",
   "mimetype": "text/x-python",
   "name": "python",
   "nbconvert_exporter": "python",
   "pygments_lexer": "ipython3",
   "version": "3.12.4"
  }
 },
 "nbformat": 4,
 "nbformat_minor": 5
}
